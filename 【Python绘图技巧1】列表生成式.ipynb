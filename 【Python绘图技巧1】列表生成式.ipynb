{
 "cells": [
  {
   "cell_type": "markdown",
   "id": "100e7070",
   "metadata": {},
   "source": [
    "# 项目简介\n",
    "\n",
    "熟悉等差数列的4种创建方式，学习列表生成式的创建&使用，了解列表生成式在Python科研绘图中常见的一些应用场景"
   ]
  },
  {
   "cell_type": "markdown",
   "id": "4b08f325",
   "metadata": {},
   "source": [
    "## 场景1：创建等差数列"
   ]
  },
  {
   "cell_type": "markdown",
   "id": "fff17512",
   "metadata": {},
   "source": [
    "### （1）直接创建列表list\n",
    "\n",
    "适用于数据不多的情况下"
   ]
  },
  {
   "cell_type": "code",
   "execution_count": 2,
   "id": "c3636b85",
   "metadata": {},
   "outputs": [
    {
     "name": "stdout",
     "output_type": "stream",
     "text": [
      "[1, 2, 3, 4, 5, 6, 7, 8, 9, 10]\n"
     ]
    }
   ],
   "source": [
    "list1 = [1,2,3,4,5,6,7,8,9,10]\n",
    "print(list1)"
   ]
  },
  {
   "cell_type": "markdown",
   "id": "ad29adcf",
   "metadata": {},
   "source": [
    "### （2）使用第三方库numpy(np)中的函数\n",
    "### 注意：返回的数列的数据类型是np.nadarry而不是列表list\n",
    "#### 1）np.arange函数\n",
    "np.arange(start,stop,step)\n",
    "\n",
    "start表示起始的数值，stop结束的数值（不包括stop本身），step步长（可省略，默认为1）\n",
    "\n",
    "#### 注意：np.arange函数默认是【左闭右开】区间，3个参数的格式可为整数int或浮点数float（有小数），还有其他参数可以自行学习"
   ]
  },
  {
   "cell_type": "code",
   "execution_count": 5,
   "id": "93f93033",
   "metadata": {},
   "outputs": [
    {
     "name": "stdout",
     "output_type": "stream",
     "text": [
      "[1 3 5 7 9]\n"
     ]
    }
   ],
   "source": [
    "import numpy as np\n",
    "\n",
    "a1 = np.arange(1,11,2)\n",
    "print(a1)"
   ]
  },
  {
   "cell_type": "markdown",
   "id": "7a51db12",
   "metadata": {},
   "source": [
    "#### 2）np.linspace函数\n",
    "linspace(start,stop,num=number)\n",
    "\n",
    "start表示起始的数值，stop结束的数值（包括stop本身），number表示需要返回的等差数组的元素个数\n",
    "\n",
    "#### 注意：np.linspace函数默认是【左闭右闭】区间，前2个参数的格式可为整数int或浮点数float（有小数），num参数为整数int，还有其他参数可以自行学习"
   ]
  },
  {
   "cell_type": "code",
   "execution_count": 7,
   "id": "f361f8de",
   "metadata": {},
   "outputs": [
    {
     "name": "stdout",
     "output_type": "stream",
     "text": [
      "[1. 3. 5. 7. 9.]\n"
     ]
    }
   ],
   "source": [
    "a2 = np.linspace(1,9,num=5)\n",
    "print(a2)"
   ]
  },
  {
   "cell_type": "markdown",
   "id": "99371ea8",
   "metadata": {},
   "source": [
    "### 3）range函数\n",
    "range(start,stop,step)\n",
    "\n",
    "start表示起始的整数，stop结束的整数（不包括stop本身），step步长（可省略，默认为1）\n",
    "\n",
    "#### 注意：range函数是【左闭右开】区间，三个参数的格式均为整数int"
   ]
  },
  {
   "cell_type": "code",
   "execution_count": 10,
   "id": "3ee134ef",
   "metadata": {},
   "outputs": [
    {
     "name": "stdout",
     "output_type": "stream",
     "text": [
      "[1, 3, 5, 7, 9]\n"
     ]
    }
   ],
   "source": [
    "list2 = list(range(1,11,2))\n",
    "print(list2)"
   ]
  },
  {
   "cell_type": "markdown",
   "id": "29131366",
   "metadata": {},
   "source": [
    "### 4）列表生成式"
   ]
  },
  {
   "cell_type": "markdown",
   "id": "3b7c15d3",
   "metadata": {},
   "source": [
    "for循环+range函数"
   ]
  },
  {
   "cell_type": "code",
   "execution_count": 11,
   "id": "c9cb9e76",
   "metadata": {},
   "outputs": [
    {
     "name": "stdout",
     "output_type": "stream",
     "text": [
      "[1, 3, 5, 7, 9]\n"
     ]
    }
   ],
   "source": [
    "list3 = []\n",
    "for i in range(1,11,2):\n",
    "    list3.append(i)\n",
    "    \n",
    "print(list3)"
   ]
  },
  {
   "cell_type": "markdown",
   "id": "3a208be4",
   "metadata": {},
   "source": [
    "列表生成式：把上面的for循环+range函数写成一行，节省空间又美观清晰"
   ]
  },
  {
   "cell_type": "code",
   "execution_count": 12,
   "id": "5ebfb77f",
   "metadata": {},
   "outputs": [
    {
     "name": "stdout",
     "output_type": "stream",
     "text": [
      "[1, 3, 5, 7, 9]\n"
     ]
    }
   ],
   "source": [
    "list3 = [i for i in range(1,11,2)]\n",
    "print(list3)"
   ]
  },
  {
   "cell_type": "markdown",
   "id": "055b17be",
   "metadata": {},
   "source": [
    "## 场景2：使用列表生成式创建复杂数列"
   ]
  },
  {
   "cell_type": "markdown",
   "id": "dc66fa88",
   "metadata": {},
   "source": [
    "### 1）创建一个数列，包含1-10的每个数的平方"
   ]
  },
  {
   "cell_type": "markdown",
   "id": "4a9b7f04",
   "metadata": {},
   "source": [
    "for循环+range函数"
   ]
  },
  {
   "cell_type": "code",
   "execution_count": 13,
   "id": "575585b0",
   "metadata": {},
   "outputs": [
    {
     "name": "stdout",
     "output_type": "stream",
     "text": [
      "[1, 4, 9, 16, 25, 36, 49, 64, 81, 100]\n"
     ]
    }
   ],
   "source": [
    "list4 = []\n",
    "for i in range(1,11):\n",
    "    i_2 = i*i\n",
    "    list4.append(i_2)\n",
    "    \n",
    "print(list4)"
   ]
  },
  {
   "cell_type": "markdown",
   "id": "6759a540",
   "metadata": {},
   "source": [
    "列表生成式：把上面的for循环+range函数写成一行，节省空间又美观清晰"
   ]
  },
  {
   "cell_type": "code",
   "execution_count": 14,
   "id": "097a3f38",
   "metadata": {},
   "outputs": [
    {
     "name": "stdout",
     "output_type": "stream",
     "text": [
      "[1, 4, 9, 16, 25, 36, 49, 64, 81, 100]\n"
     ]
    }
   ],
   "source": [
    "list4 = [i*i for i in range(1,11)]\n",
    "print(list4)"
   ]
  },
  {
   "cell_type": "markdown",
   "id": "337acc62",
   "metadata": {},
   "source": [
    "### 2）创建一个数列，包含0.9的1-5次幂\n",
    "虽然range函数的参数只能是整数，但是我们可以通过列表生成式创建出浮点数float（有小数）的列表list"
   ]
  },
  {
   "cell_type": "code",
   "execution_count": 15,
   "id": "e7888f25",
   "metadata": {},
   "outputs": [
    {
     "name": "stdout",
     "output_type": "stream",
     "text": [
      "[0.9, 0.81, 0.7290000000000001, 0.6561, 0.5904900000000001]\n"
     ]
    }
   ],
   "source": [
    "list5 = [0.9**i for i in range(1,6)]\n",
    "print(list5)"
   ]
  },
  {
   "cell_type": "markdown",
   "id": "dea3b4f1",
   "metadata": {},
   "source": [
    "### 3）创建一个数列，包含5-20所有可以整除3的数\n",
    "如果范围是0-20，那么也可考虑通过设置step，尝试使用np.arange函数或range函数实现（可以吗？请您自己试试。答案是不行的，因为0不能作为除数，所以结果不能包括0），那5-20呢？"
   ]
  },
  {
   "cell_type": "code",
   "execution_count": 18,
   "id": "4c70cf8f",
   "metadata": {},
   "outputs": [
    {
     "name": "stdout",
     "output_type": "stream",
     "text": [
      "[6, 9, 12, 15, 18]\n"
     ]
    }
   ],
   "source": [
    "list6 = [i for i in range(5,21) if i%3==0]\n",
    "print(list6)"
   ]
  },
  {
   "cell_type": "markdown",
   "id": "3f835b08",
   "metadata": {},
   "source": [
    "### 4）创建一个数列，包含5-20所有可以整除3或4的数"
   ]
  },
  {
   "cell_type": "code",
   "execution_count": 19,
   "id": "5fd489e6",
   "metadata": {},
   "outputs": [
    {
     "name": "stdout",
     "output_type": "stream",
     "text": [
      "[6, 8, 9, 12, 15, 16, 18, 20]\n"
     ]
    }
   ],
   "source": [
    "list7 = [i for i in range(5,21) if i%3==0 or i%4==0]\n",
    "print(list7)"
   ]
  },
  {
   "cell_type": "markdown",
   "id": "a93730e2",
   "metadata": {},
   "source": [
    "### 5）创建字符串str数列，包含'OC1', 'OC2', ..., 'OC10'共10个字符串"
   ]
  },
  {
   "cell_type": "code",
   "execution_count": 21,
   "id": "62b89382",
   "metadata": {},
   "outputs": [
    {
     "name": "stdout",
     "output_type": "stream",
     "text": [
      "['OC1', 'OC2', 'OC3', 'OC4', 'OC5', 'OC6', 'OC7', 'OC8', 'OC9', 'OC10']\n"
     ]
    }
   ],
   "source": [
    "list8 = ['OC'+str(i) for i in range(1,11)]\n",
    "print(list8)"
   ]
  },
  {
   "cell_type": "markdown",
   "id": "62676907",
   "metadata": {},
   "source": [
    "### 6）创建字符串str数列，包含'A1','A2',...,‘A5’,B1','B2',..,'E5'共25个字符串（两层循环）"
   ]
  },
  {
   "cell_type": "code",
   "execution_count": 22,
   "id": "49cfa6ea",
   "metadata": {},
   "outputs": [
    {
     "name": "stdout",
     "output_type": "stream",
     "text": [
      "['A1', 'A2', 'A3', 'A4', 'A5', 'B1', 'B2', 'B3', 'B4', 'B5', 'C1', 'C2', 'C3', 'C4', 'C5', 'D1', 'D2', 'D3', 'D4', 'D5', 'E1', 'E2', 'E3', 'E4', 'E5']\n"
     ]
    }
   ],
   "source": [
    "list9 = [i+str(j) for i in 'ABCDE' for j in range(1,6)]\n",
    "print(list9)"
   ]
  }
 ],
 "metadata": {
  "kernelspec": {
   "display_name": "Python 3 (ipykernel)",
   "language": "python",
   "name": "python3"
  },
  "language_info": {
   "codemirror_mode": {
    "name": "ipython",
    "version": 3
   },
   "file_extension": ".py",
   "mimetype": "text/x-python",
   "name": "python",
   "nbconvert_exporter": "python",
   "pygments_lexer": "ipython3",
   "version": "3.9.7"
  }
 },
 "nbformat": 4,
 "nbformat_minor": 5
}
