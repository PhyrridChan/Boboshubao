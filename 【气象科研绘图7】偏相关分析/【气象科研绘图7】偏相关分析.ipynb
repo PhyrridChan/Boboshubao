{
 "cells": [
  {
   "cell_type": "markdown",
   "id": "259c7546",
   "metadata": {},
   "source": [
    "# 项目简介\n",
    "使用2021年9月嵊山站（浙江省舟山市嵊泗县）气象要素站点观测资料，在2114号台风“灿都”影响下，进行消除气温影响的气压和风速的的偏相关分析。本案例笔者使用的是python第三方库pandas中的相关函数，读者也可以尝试其他方法进行计算。\n",
    "\n",
    "## 数据介绍\n",
    "数据来源：国家海洋科学数据中心-实测数据-海洋水文-中国台站观测数据\n",
    "http://mds.nmdis.org.cn/pages/dataViewDetail.html?dataSetId=4\n",
    "\n",
    "时间分辨率：1h   站点：SSN嵊山站\n",
    "\n",
    "*直接下载的文件为txt文件，已将其整理并转换为csv文件\n",
    "\n",
    "## 研究思路：\n",
    "本案例中，气压可以在一定程度上反映台风及其周围的中小尺度对流系统等对观测站点的影响（台风-低压），同时气温的日变化&中长期变化趋势等也会对气压造成影响。为了更准确地研究气压和风速的关系，可计算消除气温影响下，气压和风速的偏相关系数。\n",
    "\n",
    "## 配套视频链接："
   ]
  },
  {
   "cell_type": "code",
   "execution_count": 1,
   "id": "d6529d7e",
   "metadata": {},
   "outputs": [],
   "source": [
    "import pandas as pd\n",
    "from pandas import DataFrame\n",
    "import datetime as dt\n",
    "import pytz"
   ]
  },
  {
   "cell_type": "code",
   "execution_count": 2,
   "id": "60aae9f1",
   "metadata": {},
   "outputs": [],
   "source": [
    "df1 = pd.read_csv(r'C:\\Users\\LULU\\Desktop\\TC\\data\\ocean_data\\SSN2109.csv')\n",
    "df1['date'] = pd.to_datetime(df1['date'])\n",
    "\n",
    "#筛选指定时段\n",
    "day1 = dt.datetime.strptime('2021-9-18 19','%Y-%m-%d %H').replace(tzinfo=pytz.timezone('UTC'))\n",
    "day2 = dt.datetime.strptime('2021-9-7 0','%Y-%m-%d %H').replace(tzinfo=pytz.timezone('UTC'))\n",
    "df2 = df1[(df1['date']<day1)&(df1['date']>day2)]\n",
    "\n",
    "df = DataFrame({'Temperature':df2['T'],'Wind_speed':df2['wind_speed'],'Air_pressure':df2['P']})"
   ]
  },
  {
   "cell_type": "markdown",
   "id": "eec63b36",
   "metadata": {},
   "source": [
    "## 0.【展示】站点观测数据时间序列（气温、风速、气压、台风和站点的距离）"
   ]
  },
  {
   "cell_type": "markdown",
   "id": "e840e4bc",
   "metadata": {},
   "source": [
    "![站点观测数据时间序列（气温、风速、气压、台风离该站的距离）](./ShengShan.jpg)"
   ]
  },
  {
   "cell_type": "markdown",
   "id": "c9149353",
   "metadata": {},
   "source": [
    "## 1.查看数据"
   ]
  },
  {
   "cell_type": "code",
   "execution_count": 3,
   "id": "6281a781",
   "metadata": {},
   "outputs": [
    {
     "name": "stdout",
     "output_type": "stream",
     "text": [
      "     Temperature  Wind_speed  Air_pressure\n",
      "153         24.8        10.2        1007.3\n",
      "154         25.1        10.4        1007.7\n",
      "155         25.5         9.8        1008.2\n",
      "156         25.9         9.6        1008.4\n",
      "157         26.1         8.9        1008.3\n",
      "..           ...         ...           ...\n",
      "430         24.1         1.1        1009.3\n",
      "431         24.0         2.4        1010.0\n",
      "432         23.9         2.4        1010.2\n",
      "433         23.6         2.4        1010.3\n",
      "434         23.6         2.3        1010.2\n",
      "\n",
      "[282 rows x 3 columns]\n"
     ]
    }
   ],
   "source": [
    "print(df)"
   ]
  },
  {
   "cell_type": "markdown",
   "id": "446b6cc5",
   "metadata": {},
   "source": [
    "## 2.三个变量两两之间的相关系数矩阵"
   ]
  },
  {
   "cell_type": "code",
   "execution_count": 4,
   "id": "9597410e",
   "metadata": {},
   "outputs": [
    {
     "data": {
      "text/html": [
       "<div>\n",
       "<style scoped>\n",
       "    .dataframe tbody tr th:only-of-type {\n",
       "        vertical-align: middle;\n",
       "    }\n",
       "\n",
       "    .dataframe tbody tr th {\n",
       "        vertical-align: top;\n",
       "    }\n",
       "\n",
       "    .dataframe thead th {\n",
       "        text-align: right;\n",
       "    }\n",
       "</style>\n",
       "<table border=\"1\" class=\"dataframe\">\n",
       "  <thead>\n",
       "    <tr style=\"text-align: right;\">\n",
       "      <th></th>\n",
       "      <th>Temperature</th>\n",
       "      <th>Wind_speed</th>\n",
       "      <th>Air_pressure</th>\n",
       "    </tr>\n",
       "  </thead>\n",
       "  <tbody>\n",
       "    <tr>\n",
       "      <th>Temperature</th>\n",
       "      <td>1.000000</td>\n",
       "      <td>-0.415792</td>\n",
       "      <td>0.184012</td>\n",
       "    </tr>\n",
       "    <tr>\n",
       "      <th>Wind_speed</th>\n",
       "      <td>-0.415792</td>\n",
       "      <td>1.000000</td>\n",
       "      <td>-0.726433</td>\n",
       "    </tr>\n",
       "    <tr>\n",
       "      <th>Air_pressure</th>\n",
       "      <td>0.184012</td>\n",
       "      <td>-0.726433</td>\n",
       "      <td>1.000000</td>\n",
       "    </tr>\n",
       "  </tbody>\n",
       "</table>\n",
       "</div>"
      ],
      "text/plain": [
       "              Temperature  Wind_speed  Air_pressure\n",
       "Temperature      1.000000   -0.415792      0.184012\n",
       "Wind_speed      -0.415792    1.000000     -0.726433\n",
       "Air_pressure     0.184012   -0.726433      1.000000"
      ]
     },
     "execution_count": 4,
     "metadata": {},
     "output_type": "execute_result"
    }
   ],
   "source": [
    "df.corr()"
   ]
  },
  {
   "cell_type": "markdown",
   "id": "e60ede50",
   "metadata": {},
   "source": [
    "## 3.在三个变量中，消除变量【气温】影响下，变量【气压】和【风速】之间的一阶偏相关系数"
   ]
  },
  {
   "cell_type": "code",
   "execution_count": 5,
   "id": "8aa5fc56",
   "metadata": {},
   "outputs": [
    {
     "name": "stdout",
     "output_type": "stream",
     "text": [
      "气压和风速的相关系数： -0.7264329280078583\n",
      "消除气温影响下，气压和风速的偏相关系数： -0.7270392344821902\n"
     ]
    }
   ],
   "source": [
    "r_wa=df['Wind_speed'].corr(df['Air_pressure'])\n",
    "r_at=df['Air_pressure'].corr(df['Temperature'])\n",
    "r_wt=df['Wind_speed'].corr(df['Temperature'])\n",
    "r_wa_t=(r_wa-r_at*r_wt)/(((1-r_at**2)**0.5)*((1-r_wt**2)**0.5))\n",
    "print('气压和风速的相关系数：',r_wa)\n",
    "print('消除气温影响下，气压和风速的偏相关系数：',r_wa_t)"
   ]
  },
  {
   "cell_type": "markdown",
   "id": "ea2db9ec",
   "metadata": {},
   "source": [
    "## 4.解释现象\n",
    "影响气温变化的因素是多尺度的。将气温时间序列数据进行滤波可发现，台风对气温的冷却效应主要体现在短期分量的作用。由于本案例中气温和气压的相关系数相对不高，故在消除气温影响下，气压和风速的相关性只是略强了一些。"
   ]
  }
 ],
 "metadata": {
  "kernelspec": {
   "display_name": "Python 3 (ipykernel)",
   "language": "python",
   "name": "python3"
  },
  "language_info": {
   "codemirror_mode": {
    "name": "ipython",
    "version": 3
   },
   "file_extension": ".py",
   "mimetype": "text/x-python",
   "name": "python",
   "nbconvert_exporter": "python",
   "pygments_lexer": "ipython3",
   "version": "3.9.7"
  }
 },
 "nbformat": 4,
 "nbformat_minor": 5
}
